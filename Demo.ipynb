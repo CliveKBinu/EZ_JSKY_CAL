{
 "cells": [
  {
   "cell_type": "code",
   "execution_count": 2,
   "metadata": {},
   "outputs": [
    {
     "name": "stdout",
     "output_type": "stream",
     "text": [
      "PrestonGottskyview -101d57m29.88992347s 33d44m53.16836394s\n"
     ]
    }
   ],
   "source": [
    "import thorsky.thorskyclasses3 as tsc3\n",
    "import thorsky.thorskyutil as tsu\n",
    "import astropy.units as u\n",
    "import matplotlib.pyplot as plt\n",
    "from dateutil import tz\n",
    "from datetime import datetime\n",
    "obs = tsc3.Observation()\n",
    "obs.setsite('pgs')  \n",
    "print(obs.site.name,obs.site.location.lon.to_string(),obs.site.location.lat.to_string())"
   ]
  },
  {
   "cell_type": "markdown",
   "metadata": {},
   "source": [
    "---"
   ]
  },
  {
   "cell_type": "markdown",
   "metadata": {},
   "source": [
    "## Helper functions"
   ]
  },
  {
   "cell_type": "code",
   "execution_count": 3,
   "metadata": {},
   "outputs": [],
   "source": [
    "\n",
    "def compute_value(b):\n",
    "    obs.computesky()\n",
    "    \n",
    "    #print('Body:{}'.format(b))\n",
    "    #print(\"airmass:\",obs.airmass)\n",
    "    obs.computesunmoon()\n",
    "    #print(\"sun alt:\",(obs.sunaltit.degree))\n",
    "    #print(\"moon alt:\",(obs.moonaltit.degree))\n",
    "    #print(\"HA:\",(obs.hanow))\n",
    "    #print('current_date(UTC):{}'.format(d))\n",
    "    airmass = obs.airmass\n",
    "    sunalt = obs.sunaltit.degree\n",
    "    monalt = obs.moonaltit.degree\n",
    "    HA = obs.hanow\n",
    "    return airmass , sunalt , monalt , HA\n",
    "\n"
   ]
  },
  {
   "cell_type": "code",
   "execution_count": 4,
   "metadata": {},
   "outputs": [],
   "source": [
    "\n",
    "\n",
    "def utc_to_local():\n",
    "    from_zone = tz.tzutc()\n",
    "    to_zone = tz.tzlocal()\n",
    "    UTC = obs.t.to_datetime().strftime(\"%a  %Y-%m-%d  %H:%M:%S\")\n",
    "    utc = datetime.strptime(UTC, '%a  %Y-%m-%d  %H:%M:%S')\n",
    "    utc = utc.replace(tzinfo=from_zone)\n",
    "    central = utc.astimezone(to_zone)\n",
    "    central = central.strftime('%a  %Y-%m-%d  %H:%M:%S')\n",
    "    return central\n"
   ]
  },
  {
   "cell_type": "code",
   "execution_count": 5,
   "metadata": {},
   "outputs": [],
   "source": [
    "\n",
    "\n",
    "def airmass_plot(star_name,data):\n",
    "    airmass = []\n",
    "    UT = []\n",
    "    a = finder(star_name,data)\n",
    "    plt.xlabel('UTC')\n",
    "    plt.ylabel('airmass')\n",
    "    plt.title('{}'.format(star_name))\n",
    "    for k in a:\n",
    "        airmass.append(data.iloc[k]['airmass'])\n",
    "        UT.append(data.iloc[k]['UT'])\n",
    "        plt.plot(UT,airmass)\n",
    "\n",
    "    plt.show()"
   ]
  },
  {
   "cell_type": "code",
   "execution_count": 6,
   "metadata": {},
   "outputs": [],
   "source": [
    "def finder(name,df):\n",
    "    a = df[df['name']==name].index.values\n",
    "    print(final_df.iloc[a])\n",
    "    return a\n",
    "    "
   ]
  },
  {
   "cell_type": "code",
   "execution_count": 7,
   "metadata": {},
   "outputs": [],
   "source": [
    "def calc(m,d,y,no_steps):\n",
    "    month = str(m)\n",
    "    day = str(d)\n",
    "    year = str(y)\n",
    "    start_date = '{}-{}-{}'.format(year,month,day)\n",
    "\n",
    "    h = '20'\n",
    "    m = '00'\n",
    "    sec = '00'\n",
    "    start_time = '{}:{}:{}'.format(h,m,sec)\n",
    "\n",
    "    step = '1 h'\n",
    "\n",
    "    a = True\n",
    "    count = 0\n",
    "\n",
    "    no_of_star = len(df['name'])\n",
    "\n",
    "    for i in range(no_of_star):\n",
    "        count = 0\n",
    "        globals()[('airmass_{}'.format(df['name'][i]))] = []\n",
    "        globals()[('sunalt_{}'.format(df['name'][i]))] = []\n",
    "        globals()[('moonalt_{}'.format(df['name'][i]))] = []\n",
    "        globals()[('HA_{}'.format(df['name'][i]))] = []\n",
    "        globals()[('UT_{}'.format(df['name'][i]))] = []\n",
    "        globals()[('local_{}'.format(df['name'][i]))] = []\n",
    "\n",
    "\n",
    "        \n",
    "\n",
    "        for k in range(no_of_steps):\n",
    "            obj = (('{}  {}  {}').format(df['RA'][i],df['DEC'][i],df['Equinox'][i]))\n",
    "            obs.setcelest(obj)\n",
    "\n",
    "            if count == 0:\n",
    "                obs.settime('{} {}'.format(start_date,start_time))\n",
    "\n",
    "                UT_time = obs.t.to_datetime().strftime(\"%a  %Y-%m-%d  %H:%M:%S\").split(' ')[-1]\n",
    "                globals()[('UT_{}'.format(df['name'][i]))].append(UT_time)\n",
    "                local = utc_to_local()\n",
    "                globals()[('local_{}'.format(df['name'][i]))].append(local)\n",
    "\n",
    "\n",
    "                airmass , sunalt , monalt , HA = compute_value(df['name'][i])\n",
    "                #print('Start_time = {} ,Start_Date = {}'.format(start_time,start_date))\n",
    "                globals()[('airmass_{}'.format(df['name'][i]))].append(airmass)\n",
    "                #print(airmass,df['name'][i])\n",
    "                globals()[('sunalt_{}'.format(df['name'][i]))].append(sunalt)\n",
    "                globals()[('moonalt_{}'.format(df['name'][i]))].append(monalt)\n",
    "                globals()[('HA_{}'.format(df['name'][i]))].append(HA)\n",
    "                # in_date = obs.t.to_datetime().strftime(\"%a  %Y-%m-%d  %H:%M:%S\").split(' ')[2]\n",
    "                # in_day = in_date.split('-')[2]\n",
    "                count += 1\n",
    "                #print(in_date)\n",
    "                #print('-'*55)\n",
    "            elif count != 0:\n",
    "                obs.settime(obs.advancetime(step))\n",
    "                \n",
    "                UT_time = obs.t.to_datetime().strftime(\"%a  %Y-%m-%d  %H:%M:%S\").split(' ')[-1]\n",
    "                globals()[('UT_{}'.format(df['name'][i]))].append(UT_time)\n",
    "                local = utc_to_local()\n",
    "                globals()[('local_{}'.format(df['name'][i]))].append(local)\n",
    "                #print(obs.t.to_datetime().strftime(\"%a  %Y-%m-%d  %H:%M:%S\")+' '+ 'UT')\n",
    "                airmass , sunalt , monalt , HA = compute_value(df['name'][i])\n",
    "\n",
    "                globals()[('airmass_{}'.format(df['name'][i]))].append(airmass)\n",
    "                globals()[('sunalt_{}'.format(df['name'][i]))].append(sunalt)\n",
    "                globals()[('moonalt_{}'.format(df['name'][i]))].append(monalt)\n",
    "                globals()[('HA_{}'.format(df['name'][i]))].append(HA)\n",
    "\n",
    "                # date = obs.t.to_datetime().strftime(\"%a  %Y-%m-%d  %H:%M:%S\").split(' ')[2]\n",
    "                # day = date.split('-')[2]\n",
    "                \n",
    "    final_airmass = []\n",
    "    final_name = []\n",
    "    final_sunalt = []\n",
    "    final_moonalt = []\n",
    "    final_HA = []\n",
    "    final_UT = []\n",
    "    final_local = []\n",
    "\n",
    "    for i in range(no_of_star):\n",
    "        #globals()[('{}_count'.format(df['name'][i]))] = 0\n",
    "        for k in range(len(airmass_M1)):\n",
    "            if (0 < globals()[('airmass_{}'.format(df['name'][i]))][k] < 1.9):\n",
    "                #print(globals()[('airmass_{}'.format(df['name'][i]))][k])\n",
    "                if (globals()[('sunalt_{}'.format(df['name'][i]))][k] < -18):\n",
    "                    #print(globals()[('sunalt_{}'.format(df['name'][i]))][k])\n",
    "                    if (globals()[('moonalt_{}'.format(df['name'][i]))][k] < 0):\n",
    "                        #print(globals()[('moonalt_{}'.format(df['name'][i]))])\n",
    "                        #globals()[('{}_count'.format(df['name'][i]))] += 1\n",
    "                        #print(df['name'][i],globals()[('airmass_{}'.format(df['name'][i]))][k])\n",
    "                        final_name.append(df['name'][i])\n",
    "                        final_airmass.append(globals()[('airmass_{}'.format(df['name'][i]))][k])\n",
    "                        final_sunalt.append((globals()[('sunalt_{}'.format(df['name'][i]))][k]))\n",
    "                        final_moonalt.append(globals()[('moonalt_{}'.format(df['name'][i]))][k])\n",
    "                        final_HA.append((globals()[('HA_{}'.format(df['name'][i]))][k]))\n",
    "                        final_UT.append(globals()[('UT_{}'.format(df['name'][i]))][k])\n",
    "                        final_local.append(globals()[('local_{}'.format(df['name'][i]))][k])\n",
    "    \n",
    "    final_df = pd.DataFrame(columns=['name','local_datetime','HA','UT','airmass','sunalt','moonalt'])\n",
    "    final_df['local_datetime'] = final_local\n",
    "    final_df['name'] = final_name\n",
    "    final_df['airmass'] = final_airmass\n",
    "    final_df['sunalt'] = final_sunalt\n",
    "    final_df['moonalt'] = final_moonalt\n",
    "    final_df['HA'] = final_HA\n",
    "    final_df['UT'] = final_UT\n",
    "\n",
    "\n",
    "\n",
    "\n",
    "    final_df['name'].unique()\n",
    "    for k in final_df['name'].unique():\n",
    "        count = 0\n",
    "        a = []\n",
    "        for i in range(len(final_df['name'])):\n",
    "            if final_df['name'][i] == k:\n",
    "                count+=1\n",
    "                a.append(i)\n",
    "        if count < 3:\n",
    "            final_df.loc[a,['name','airmass','sunalt','moonalt']] = np.nan\n",
    "\n",
    "    final_df.dropna(inplace=True)\n",
    "    final_df.reset_index(drop=True,inplace=True)\n",
    "\n",
    "                \n",
    "    return final_df , start_date \n",
    "\n",
    "    \n",
    "        "
   ]
  },
  {
   "cell_type": "code",
   "execution_count": 8,
   "metadata": {},
   "outputs": [],
   "source": [
    "def index_extractor(df,col,num):\n",
    "    index = df.index\n",
    "    condition = df[col] == num\n",
    "    test_indices = index[condition]\n",
    "    test = test_indices.to_list()\n",
    "    print(test)\n",
    "    return test"
   ]
  },
  {
   "cell_type": "markdown",
   "metadata": {},
   "source": [
    "---"
   ]
  },
  {
   "cell_type": "code",
   "execution_count": 9,
   "metadata": {},
   "outputs": [],
   "source": [
    "import pandas as pd\n",
    "## input the catalog you want to observe \n",
    "    ## FYI NGC catalog takes long time to process \n",
    "df = pd.read_csv('Messier_processed.csv')"
   ]
  },
  {
   "cell_type": "code",
   "execution_count": 20,
   "metadata": {},
   "outputs": [
    {
     "name": "stdout",
     "output_type": "stream",
     "text": [
      "Oberving date :9-21-2022\n"
     ]
    },
    {
     "name": "stderr",
     "output_type": "stream",
     "text": [
      "WARNING: IllegalMinuteWarning: 'minute' was found  to be '60', which is not in range [0,60). Treating as 0 min, +1 hr/deg [astropy.coordinates.angle_formats]\n",
      "WARNING: IllegalMinuteWarning: 'minute' was found  to be '60', which is not in range [0,60). Treating as 0 min, +1 hr/deg [astropy.coordinates.angle_formats]\n",
      "WARNING: IllegalMinuteWarning: 'minute' was found  to be '60', which is not in range [0,60). Treating as 0 min, +1 hr/deg [astropy.coordinates.angle_formats]\n",
      "WARNING: IllegalMinuteWarning: 'minute' was found  to be '60', which is not in range [0,60). Treating as 0 min, +1 hr/deg [astropy.coordinates.angle_formats]\n",
      "WARNING: IllegalMinuteWarning: 'minute' was found  to be '60', which is not in range [0,60). Treating as 0 min, +1 hr/deg [astropy.coordinates.angle_formats]\n"
     ]
    }
   ],
   "source": [
    "import numpy as np\n",
    "\n",
    "#here no of steps is the number number of hrs to observe\n",
    "no_of_steps = 5\n",
    "\n",
    "observing_date = [9,21,2022]\n",
    "d = observing_date[1]\n",
    "\n",
    "while observing_date[1] == d:\n",
    "    print(f'Oberving date :{observing_date[0]}-{observing_date[1]}-{observing_date[2]}')\n",
    "    m = observing_date[0]\n",
    "    d = observing_date[1]\n",
    "    y = observing_date[2]\n",
    "    final_df,start_date = calc(m,d,y,no_of_steps)\n",
    "    final_df.to_csv(f'output/{start_date}_{no_of_steps}h_NGC.csv',index=False) ## make sure to create a dir \"output\"\n",
    "    d += 1"
   ]
  },
  {
   "cell_type": "code",
   "execution_count": 12,
   "metadata": {},
   "outputs": [
    {
     "name": "stdout",
     "output_type": "stream",
     "text": [
      "M2      3\n",
      "M15     3\n",
      "M27     3\n",
      "M29     3\n",
      "M31     3\n",
      "M32     3\n",
      "M39     3\n",
      "M52     3\n",
      "M56     3\n",
      "M57     3\n",
      "M71     3\n",
      "M72     3\n",
      "M73     3\n",
      "M92     3\n",
      "M103    3\n",
      "M110    3\n",
      "Name: name, dtype: int64\n"
     ]
    }
   ],
   "source": [
    "## Shows the objects and how long it's visbile \n",
    "\n",
    "date = f'{observing_date[2]}-{observing_date[0]}-{observing_date[1]}'\n",
    "\n",
    "final_df = pd.read_csv('output/{}_{}h_NGC.csv'.format(date,no_of_steps))\n",
    "\n",
    "result = final_df['name'].value_counts()\n",
    "print(result)"
   ]
  },
  {
   "cell_type": "code",
   "execution_count": 13,
   "metadata": {},
   "outputs": [
    {
     "name": "stdout",
     "output_type": "stream",
     "text": [
      "M2\n",
      "M15\n",
      "M27\n",
      "M29\n",
      "M31\n",
      "M32\n",
      "M39\n",
      "M52\n",
      "M56\n",
      "M57\n",
      "M71\n",
      "M72\n",
      "M73\n",
      "M92\n",
      "M103\n",
      "M110\n"
     ]
    }
   ],
   "source": [
    "## Run this if you want to filter the objects wrt (Here objects less than 4 hours is taken)\n",
    "\n",
    "for i in range(len(result)):\n",
    "    if result[i] <= 4:\n",
    "        print(result.index.tolist()[i])\n"
   ]
  },
  {
   "cell_type": "code",
   "execution_count": 21,
   "metadata": {},
   "outputs": [
    {
     "name": "stdout",
     "output_type": "stream",
     "text": [
      "    name             local_datetime                  HA        UT   airmass  \\\n",
      "45  M110  Wed  2022-09-21  22:00:00  -4h25m13.23720275s  03:00:00  1.611215   \n",
      "46  M110  Wed  2022-09-21  23:00:00  -3h25m03.38074271s  04:00:00  1.317714   \n",
      "47  M110  Thu  2022-09-22  00:00:00  -2h24m53.52424234s  05:00:00  1.148484   \n",
      "\n",
      "       sunalt    moonalt  \n",
      "45 -28.127004 -33.939222  \n",
      "46 -39.204180 -35.976310  \n",
      "47 -48.540368 -34.602402  \n"
     ]
    }
   ],
   "source": [
    "## Use finder to find the details of the choosen target/object\n",
    "\n",
    "a = finder('M110',final_df)"
   ]
  },
  {
   "cell_type": "code",
   "execution_count": 23,
   "metadata": {},
   "outputs": [
    {
     "name": "stdout",
     "output_type": "stream",
     "text": [
      "   name             local_datetime                 HA        UT   airmass  \\\n",
      "27  M57  Wed  2022-09-21  22:00:00  1h21m10.73597522s  03:00:00  1.045157   \n",
      "28  M57  Wed  2022-09-21  23:00:00  2h21m20.59243525s  04:00:00  1.146882   \n",
      "29  M57  Thu  2022-09-22  00:00:00  3h21m30.44893562s  05:00:00  1.336448   \n",
      "\n",
      "       sunalt    moonalt  \n",
      "27 -28.127004 -33.939222  \n",
      "28 -39.204180 -35.976310  \n",
      "29 -48.540368 -34.602402  \n"
     ]
    },
    {
     "data": {
      "image/png": "[encoded data removed]",
      "text/plain": [
       "<Figure size 640x480 with 1 Axes>"
      ]
     },
     "metadata": {},
     "output_type": "display_data"
    }
   ],
   "source": [
    "## Generates the details and airmass plot of the given target \n",
    "airmass_plot('M57',final_df)"
   ]
  },
  {
   "cell_type": "markdown",
   "metadata": {},
   "source": [
    "---"
   ]
  }
 ],
 "metadata": {
  "kernelspec": {
   "display_name": "Python 3.9.12 ('base')",
   "language": "python",
   "name": "python3"
  },
  "language_info": {
   "codemirror_mode": {
    "name": "ipython",
    "version": 3
   },
   "file_extension": ".py",
   "mimetype": "text/x-python",
   "name": "python",
   "nbconvert_exporter": "python",
   "pygments_lexer": "ipython3",
   "version": "3.9.12"
  },
  "orig_nbformat": 4,
  "vscode": {
   "interpreter": {
    "hash": "2ec0db29cffdd90034702620b342d760fa56bfd6edea4bd02e4a1ab73ba6e542"
   }
  }
 },
 "nbformat": 4,
 "nbformat_minor": 2
}
